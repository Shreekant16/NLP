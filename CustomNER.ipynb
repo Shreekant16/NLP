{
 "cells": [
  {
   "cell_type": "code",
   "execution_count": 48,
   "id": "76ff95c6",
   "metadata": {},
   "outputs": [],
   "source": [
    "import json\n",
    "import spacy\n",
    "from spacy.tokens import DocBin\n",
    "from spacy.util import filter_spans\n",
    "from tqdm import tqdm\n",
    "from spacy import displacy"
   ]
  },
  {
   "cell_type": "code",
   "execution_count": 35,
   "id": "b563a341",
   "metadata": {},
   "outputs": [],
   "source": [
    "nlp = spacy.blank('en')"
   ]
  },
  {
   "cell_type": "code",
   "execution_count": 36,
   "id": "aeab5d41",
   "metadata": {},
   "outputs": [],
   "source": [
    "with open(\"training_data.json\") as f:\n",
    "    dataset = json.load(f)"
   ]
  },
  {
   "cell_type": "code",
   "execution_count": 37,
   "id": "8ecbd670",
   "metadata": {},
   "outputs": [],
   "source": [
    "NER_Training_data = []\n",
    "for example in dataset[\"annotations\"]:\n",
    "    text = example[0]\n",
    "    temp_dict = {}\n",
    "    temp_dict[\"text\"] = text\n",
    "    entity = []\n",
    "    for ann in example[1][\"entities\"]:\n",
    "        start = ann[0]\n",
    "        end = ann[1]\n",
    "        label = ann[2]\n",
    "        entity.append((start, end, label))\n",
    "    temp_dict[\"entity\"] = entity\n",
    "    NER_Training_data.append(temp_dict)"
   ]
  },
  {
   "cell_type": "code",
   "execution_count": 38,
   "id": "8760481b",
   "metadata": {},
   "outputs": [
    {
     "data": {
      "text/plain": [
       "{'text': 'Cryptocurrency prices today surged with Bitcoin trading at $48,089.82, a 2.6% increase in the last 24 hours. Ethereum surged marginally to $3,838.45, a 1.3% increase in the last 24 hours.',\n",
       " 'entity': [(40, 47, 'CRYPTO'),\n",
       "  (59, 69, 'VALUE'),\n",
       "  (73, 77, 'PERCENTAGE'),\n",
       "  (109, 117, 'CRYPTO'),\n",
       "  (139, 148, 'VALUE'),\n",
       "  (152, 156, 'PERCENTAGE')]}"
      ]
     },
     "execution_count": 38,
     "metadata": {},
     "output_type": "execute_result"
    }
   ],
   "source": [
    "NER_Training_data[0]"
   ]
  },
  {
   "cell_type": "code",
   "execution_count": 39,
   "id": "97bb20c0",
   "metadata": {},
   "outputs": [],
   "source": [
    "doc_bin = DocBin()"
   ]
  },
  {
   "cell_type": "code",
   "execution_count": 40,
   "id": "bc78d75e",
   "metadata": {},
   "outputs": [
    {
     "name": "stderr",
     "output_type": "stream",
     "text": [
      "100%|████████████████████████████████████████████████████████████████████████████████████████████| 5/5 [00:00<?, ?it/s]\n"
     ]
    }
   ],
   "source": [
    "for i in tqdm(NER_Training_data):\n",
    "    doc = nlp.make_doc(i[\"text\"])\n",
    "    ents = []\n",
    "    for start, end, label in i[\"entity\"]:\n",
    "        span = doc.char_span(start_idx=start, end_idx=end, label=label)\n",
    "        if span is None:\n",
    "            print(\"skipping span\")\n",
    "        else:\n",
    "            ents.append(span)\n",
    "            \n",
    "    filtered_span = filter_spans(ents)\n",
    "    doc.ents = filtered_span\n",
    "    doc_bin.add(doc)"
   ]
  },
  {
   "cell_type": "code",
   "execution_count": 41,
   "id": "6177158c",
   "metadata": {},
   "outputs": [],
   "source": [
    "doc_bin.to_disk(\"train.spacy\")"
   ]
  },
  {
   "cell_type": "code",
   "execution_count": null,
   "id": "5fc819b5",
   "metadata": {},
   "outputs": [],
   "source": []
  },
  {
   "cell_type": "code",
   "execution_count": 42,
   "id": "522f9c83",
   "metadata": {},
   "outputs": [],
   "source": [
    "# https://spacy.io/usage/training#quickstart"
   ]
  },
  {
   "cell_type": "code",
   "execution_count": 43,
   "id": "ea9fe98b",
   "metadata": {},
   "outputs": [
    {
     "name": "stdout",
     "output_type": "stream",
     "text": [
      "\u001b[38;5;2m[+] Auto-filled config with all values\u001b[0m\n",
      "\u001b[38;5;2m[+] Saved config\u001b[0m\n",
      "config.cfg\n",
      "You can now add your data and train your pipeline:\n",
      "python -m spacy train config.cfg --paths.train ./train.spacy --paths.dev ./dev.spacy\n"
     ]
    }
   ],
   "source": [
    "!python -m spacy init fill-config base_config.cfg config.cfg"
   ]
  },
  {
   "cell_type": "code",
   "execution_count": 45,
   "id": "614927a7",
   "metadata": {},
   "outputs": [
    {
     "name": "stdout",
     "output_type": "stream",
     "text": [
      "\u001b[38;5;4m[i] Saving to output directory: .\u001b[0m\n",
      "\u001b[38;5;4m[i] Using CPU\u001b[0m\n",
      "\u001b[1m\n",
      "=========================== Initializing pipeline ===========================\u001b[0m\n",
      "\u001b[38;5;2m[+] Initialized pipeline\u001b[0m\n",
      "\u001b[1m\n",
      "============================= Training pipeline =============================\u001b[0m\n",
      "\u001b[38;5;4m[i] Pipeline: ['tok2vec', 'ner']\u001b[0m\n",
      "\u001b[38;5;4m[i] Initial learn rate: 0.001\u001b[0m\n",
      "E    #       LOSS TOK2VEC  LOSS NER  ENTS_F  ENTS_P  ENTS_R  SCORE \n",
      "---  ------  ------------  --------  ------  ------  ------  ------\n",
      "  0       0          0.00     45.05    3.70    2.78    5.56    0.04\n",
      " 78     200        443.16   1255.92  100.00  100.00  100.00    1.00\n",
      "176     400          0.00      0.00  100.00  100.00  100.00    1.00\n",
      "276     600          0.00      0.00  100.00  100.00  100.00    1.00\n",
      "459     800          0.00      0.00  100.00  100.00  100.00    1.00\n",
      "659    1000          0.00      0.00  100.00  100.00  100.00    1.00\n",
      "859    1200          0.00      0.00  100.00  100.00  100.00    1.00\n",
      "1059    1400          0.00      0.00  100.00  100.00  100.00    1.00\n",
      "1259    1600          0.00      0.00  100.00  100.00  100.00    1.00\n",
      "1459    1800          0.00      0.00  100.00  100.00  100.00    1.00\n",
      "\u001b[38;5;2m[+] Saved pipeline to output directory\u001b[0m\n",
      "model-last\n"
     ]
    },
    {
     "name": "stderr",
     "output_type": "stream",
     "text": [
      "[2023-07-28 11:49:52,350] [INFO] Set up nlp object from config\n",
      "[2023-07-28 11:49:52,359] [INFO] Pipeline: ['tok2vec', 'ner']\n",
      "[2023-07-28 11:49:52,362] [INFO] Created vocabulary\n",
      "[2023-07-28 11:49:52,362] [INFO] Finished initializing nlp object\n",
      "[2023-07-28 11:49:52,455] [INFO] Initialized pipeline components: ['tok2vec', 'ner']\n"
     ]
    }
   ],
   "source": [
    "!python -m spacy train config.cfg --output ./ --paths.train ./train.spacy --paths.dev ./train.spacy "
   ]
  },
  {
   "cell_type": "code",
   "execution_count": 46,
   "id": "a2d25e38",
   "metadata": {},
   "outputs": [],
   "source": [
    "custom_ner = spacy.load(\"model-best\")"
   ]
  },
  {
   "cell_type": "code",
   "execution_count": 47,
   "id": "4fb633e4",
   "metadata": {},
   "outputs": [],
   "source": [
    "doc = custom_ner('Cryptocurrency prices today surged with Bitcoin trading at $48,089.82, a 2.6% increase in the last 24 hours. Ethereum surged marginally to $3,838.45, a 1.3% increase in the last 24 hours.')"
   ]
  },
  {
   "cell_type": "code",
   "execution_count": 49,
   "id": "82a3c158",
   "metadata": {},
   "outputs": [
    {
     "data": {
      "text/html": [
       "<span class=\"tex2jax_ignore\"><div class=\"entities\" style=\"line-height: 2.5; direction: ltr\">Cryptocurrency prices today surged with \n",
       "<mark class=\"entity\" style=\"background: #ddd; padding: 0.45em 0.6em; margin: 0 0.25em; line-height: 1; border-radius: 0.35em;\">\n",
       "    Bitcoin\n",
       "    <span style=\"font-size: 0.8em; font-weight: bold; line-height: 1; border-radius: 0.35em; vertical-align: middle; margin-left: 0.5rem\">CRYPTO</span>\n",
       "</mark>\n",
       " trading at \n",
       "<mark class=\"entity\" style=\"background: #ddd; padding: 0.45em 0.6em; margin: 0 0.25em; line-height: 1; border-radius: 0.35em;\">\n",
       "    $48,089.82\n",
       "    <span style=\"font-size: 0.8em; font-weight: bold; line-height: 1; border-radius: 0.35em; vertical-align: middle; margin-left: 0.5rem\">VALUE</span>\n",
       "</mark>\n",
       ", a \n",
       "<mark class=\"entity\" style=\"background: #ddd; padding: 0.45em 0.6em; margin: 0 0.25em; line-height: 1; border-radius: 0.35em;\">\n",
       "    2.6%\n",
       "    <span style=\"font-size: 0.8em; font-weight: bold; line-height: 1; border-radius: 0.35em; vertical-align: middle; margin-left: 0.5rem\">PERCENTAGE</span>\n",
       "</mark>\n",
       " increase in the last 24 hours. \n",
       "<mark class=\"entity\" style=\"background: #ddd; padding: 0.45em 0.6em; margin: 0 0.25em; line-height: 1; border-radius: 0.35em;\">\n",
       "    Ethereum\n",
       "    <span style=\"font-size: 0.8em; font-weight: bold; line-height: 1; border-radius: 0.35em; vertical-align: middle; margin-left: 0.5rem\">CRYPTO</span>\n",
       "</mark>\n",
       " surged marginally to \n",
       "<mark class=\"entity\" style=\"background: #ddd; padding: 0.45em 0.6em; margin: 0 0.25em; line-height: 1; border-radius: 0.35em;\">\n",
       "    $3,838.45\n",
       "    <span style=\"font-size: 0.8em; font-weight: bold; line-height: 1; border-radius: 0.35em; vertical-align: middle; margin-left: 0.5rem\">VALUE</span>\n",
       "</mark>\n",
       ", a \n",
       "<mark class=\"entity\" style=\"background: #ddd; padding: 0.45em 0.6em; margin: 0 0.25em; line-height: 1; border-radius: 0.35em;\">\n",
       "    1.3%\n",
       "    <span style=\"font-size: 0.8em; font-weight: bold; line-height: 1; border-radius: 0.35em; vertical-align: middle; margin-left: 0.5rem\">PERCENTAGE</span>\n",
       "</mark>\n",
       " increase in the last 24 hours.</div></span>"
      ],
      "text/plain": [
       "<IPython.core.display.HTML object>"
      ]
     },
     "metadata": {},
     "output_type": "display_data"
    }
   ],
   "source": [
    "displacy.render(doc, style=\"ent\", jupyter=True)"
   ]
  },
  {
   "cell_type": "code",
   "execution_count": null,
   "id": "557e64f2",
   "metadata": {},
   "outputs": [],
   "source": []
  },
  {
   "cell_type": "code",
   "execution_count": null,
   "id": "2f6a12ee",
   "metadata": {},
   "outputs": [],
   "source": []
  }
 ],
 "metadata": {
  "kernelspec": {
   "display_name": "Python 3 (ipykernel)",
   "language": "python",
   "name": "python3"
  },
  "language_info": {
   "codemirror_mode": {
    "name": "ipython",
    "version": 3
   },
   "file_extension": ".py",
   "mimetype": "text/x-python",
   "name": "python",
   "nbconvert_exporter": "python",
   "pygments_lexer": "ipython3",
   "version": "3.9.16"
  }
 },
 "nbformat": 4,
 "nbformat_minor": 5
}
